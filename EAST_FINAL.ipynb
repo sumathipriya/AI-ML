{
  "nbformat": 4,
  "nbformat_minor": 0,
  "metadata": {
    "colab": {
      "provenance": [],
      "gpuType": "T4",
      "authorship_tag": "ABX9TyO7EMgesBkJTUWPr51M/tkL",
      "include_colab_link": true
    },
    "kernelspec": {
      "name": "python3",
      "display_name": "Python 3"
    },
    "language_info": {
      "name": "python"
    },
    "accelerator": "GPU"
  },
  "cells": [
    {
      "cell_type": "markdown",
      "metadata": {
        "id": "view-in-github",
        "colab_type": "text"
      },
      "source": [
        "<a href=\"https://colab.research.google.com/github/sumathipriya/AI-ML/blob/main/EAST_FINAL.ipynb\" target=\"_parent\"><img src=\"https://colab.research.google.com/assets/colab-badge.svg\" alt=\"Open In Colab\"/></a>"
      ]
    },
    {
      "cell_type": "code",
      "execution_count": 11,
      "metadata": {
        "colab": {
          "base_uri": "https://localhost:8080/"
        },
        "id": "nNfTE_3_09_U",
        "outputId": "53a60451-eee7-409c-c580-9303a53d9d72"
      },
      "outputs": [
        {
          "output_type": "stream",
          "name": "stdout",
          "text": [
            "fatal: destination path 'EAST-Detector-for-Text-Detection-Using-OpenCV-with-Word-Cropping' already exists and is not an empty directory.\n"
          ]
        }
      ],
      "source": [
        "!git clone https://github.com/takikhasan/EAST-Detector-for-Text-Detection-Using-OpenCV-with-Word-Cropping.git\n"
      ]
    },
    {
      "cell_type": "code",
      "source": [
        "!pip install imutils"
      ],
      "metadata": {
        "colab": {
          "base_uri": "https://localhost:8080/"
        },
        "id": "_aBRfneX2bfe",
        "outputId": "1f1ca0b8-4183-4af2-bf95-765105ac0bcb"
      },
      "execution_count": 12,
      "outputs": [
        {
          "output_type": "stream",
          "name": "stdout",
          "text": [
            "Requirement already satisfied: imutils in /usr/local/lib/python3.10/dist-packages (0.5.4)\n"
          ]
        }
      ]
    },
    {
      "cell_type": "code",
      "source": [
        "!pip install numpy"
      ],
      "metadata": {
        "colab": {
          "base_uri": "https://localhost:8080/"
        },
        "id": "2EQ6VZXI2bi9",
        "outputId": "d3e5b960-507c-4f6e-bddd-98764509e930"
      },
      "execution_count": 4,
      "outputs": [
        {
          "output_type": "stream",
          "name": "stdout",
          "text": [
            "Requirement already satisfied: numpy in /usr/local/lib/python3.10/dist-packages (1.23.5)\n"
          ]
        }
      ]
    },
    {
      "cell_type": "code",
      "source": [
        "!pip install opencv-python"
      ],
      "metadata": {
        "colab": {
          "base_uri": "https://localhost:8080/"
        },
        "id": "hI-y7Mk41FEx",
        "outputId": "df7610be-bce4-4c6b-9dce-614ee646cde2"
      },
      "execution_count": 5,
      "outputs": [
        {
          "output_type": "stream",
          "name": "stdout",
          "text": [
            "Requirement already satisfied: opencv-python in /usr/local/lib/python3.10/dist-packages (4.8.0.76)\n",
            "Requirement already satisfied: numpy>=1.21.2 in /usr/local/lib/python3.10/dist-packages (from opencv-python) (1.23.5)\n"
          ]
        }
      ]
    },
    {
      "cell_type": "code",
      "source": [
        "\n",
        "!python /content/EAST-Detector-for-Text-Detection-Using-OpenCV-with-Word-Cropping/opencv_text_detection_image.py --image images//content/EAST-Detector-for-Text-Detection-Using-OpenCV-with-Word-Cropping/images/Book.jpg --east /content/EAST-Detector-for-Text-Detection-Using-OpenCV-with-Word-Cropping/frozen_east_text_detection.pb"
      ],
      "metadata": {
        "colab": {
          "base_uri": "https://localhost:8080/"
        },
        "id": "X-6F7I_Y207D",
        "outputId": "6d6bc6bc-d305-452d-bbe4-6fd21826d221"
      },
      "execution_count": 6,
      "outputs": [
        {
          "output_type": "stream",
          "name": "stdout",
          "text": [
            "[ WARN:0@0.125] global loadsave.cpp:248 findDecoder imread_('images//content/EAST-Detector-for-Text-Detection-Using-OpenCV-with-Word-Cropping/images/Book.jpg'): can't open/read file: check file path/integrity\n",
            "Traceback (most recent call last):\n",
            "  File \"/content/EAST-Detector-for-Text-Detection-Using-OpenCV-with-Word-Cropping/opencv_text_detection_image.py\", line 31, in <module>\n",
            "    orig = image.copy()\n",
            "AttributeError: 'NoneType' object has no attribute 'copy'\n"
          ]
        }
      ]
    },
    {
      "cell_type": "code",
      "source": [
        "!python /content/EAST-Detector-for-Text-Detection-Using-OpenCV-with-Word-Cropping/opencv_text_detection_image.py --image /content/EAST-Detector-for-Text-Detection-Using-OpenCV-with-Word-Cropping/images/email-diagram.png --east /content/EAST-Detector-for-Text-Detection-Using-OpenCV-with-Word-Cropping/frozen_east_text_detection.pb\n"
      ],
      "metadata": {
        "colab": {
          "base_uri": "https://localhost:8080/"
        },
        "id": "crESL77Y20_i",
        "outputId": "461110e3-0b1e-4532-daf3-726431939306"
      },
      "execution_count": 14,
      "outputs": [
        {
          "output_type": "stream",
          "name": "stdout",
          "text": [
            "[INFO] loading EAST text detector...\n",
            "[INFO] text detection took 5.287199 seconds\n"
          ]
        }
      ]
    },
    {
      "cell_type": "code",
      "source": [],
      "metadata": {
        "id": "wYEUpsIw21DV"
      },
      "execution_count": null,
      "outputs": []
    },
    {
      "cell_type": "code",
      "source": [],
      "metadata": {
        "id": "4ez0WAgk1FIX"
      },
      "execution_count": null,
      "outputs": []
    },
    {
      "cell_type": "code",
      "source": [],
      "metadata": {
        "id": "p_elU9Pz1FL-"
      },
      "execution_count": null,
      "outputs": []
    },
    {
      "cell_type": "code",
      "source": [],
      "metadata": {
        "id": "CM_QNiuM1FPm"
      },
      "execution_count": null,
      "outputs": []
    },
    {
      "cell_type": "code",
      "source": [],
      "metadata": {
        "id": "afqxr_Tg1FSd"
      },
      "execution_count": null,
      "outputs": []
    }
  ]
}