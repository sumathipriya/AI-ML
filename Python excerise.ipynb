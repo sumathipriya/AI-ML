{
 "cells": [
  {
   "cell_type": "code",
   "execution_count": 1,
   "id": "dc2ab8f1",
   "metadata": {},
   "outputs": [
    {
     "name": "stdout",
     "output_type": "stream",
     "text": [
      "HOPE AI\n"
     ]
    }
   ],
   "source": [
    "print(\"HOPE AI\")"
   ]
  },
  {
   "cell_type": "code",
   "execution_count": 3,
   "id": "247fd7ed",
   "metadata": {},
   "outputs": [
    {
     "name": "stdout",
     "output_type": "stream",
     "text": [
      "Enter Your institute Name :Hope AI\n"
     ]
    }
   ],
   "source": [
    "Institute_Name = input(\"Enter Your institute Name :\")"
   ]
  },
  {
   "cell_type": "code",
   "execution_count": 4,
   "id": "3b0856a1",
   "metadata": {},
   "outputs": [
    {
     "name": "stdout",
     "output_type": "stream",
     "text": [
      "Enter Your Name :Raj\n",
      "Enter your Age :15\n",
      "Enter your school Name :Guru school\n",
      "Enter your DegreeB.E CSE\n"
     ]
    }
   ],
   "source": [
    "Name = input(\"Enter Your Name :\")\n",
    "Age = input(\"Enter your Age :\")\n",
    "School_Name = input(\"Enter your school Name :\")\n",
    "Degree = input(\"Enter your Degree\")"
   ]
  },
  {
   "cell_type": "code",
   "execution_count": 5,
   "id": "946a7459",
   "metadata": {},
   "outputs": [
    {
     "name": "stdout",
     "output_type": "stream",
     "text": [
      "a =43\n",
      "b =34\n",
      "add = 77\n"
     ]
    }
   ],
   "source": [
    "Num1=int(input(\"a =\"))\n",
    "Num2=int(input(\"b =\"))\n",
    "add=Num1+Num2\n",
    "\n",
    "\n",
    "print(\"add =\",add)"
   ]
  },
  {
   "cell_type": "code",
   "execution_count": 6,
   "id": "23316774",
   "metadata": {},
   "outputs": [
    {
     "name": "stdout",
     "output_type": "stream",
     "text": [
      "a =43\n",
      "b =34\n",
      "sub = 9\n"
     ]
    }
   ],
   "source": [
    "Num1=int(input(\"a =\"))\n",
    "Num2=int(input(\"b =\"))\n",
    "sub=Num1-Num2\n",
    "\n",
    "\n",
    "print(\"sub =\",sub)"
   ]
  },
  {
   "cell_type": "code",
   "execution_count": 7,
   "id": "61530d33",
   "metadata": {},
   "outputs": [
    {
     "name": "stdout",
     "output_type": "stream",
     "text": [
      "a =63\n",
      "b =97\n",
      "Mul = 6111\n"
     ]
    }
   ],
   "source": [
    "Num1=int(input(\"a =\"))\n",
    "Num2=int(input(\"b =\"))\n",
    "mul=Num1*Num2\n",
    "\n",
    "\n",
    "print(\"Mul =\",mul)"
   ]
  },
  {
   "cell_type": "code",
   "execution_count": 10,
   "id": "6f05920a",
   "metadata": {},
   "outputs": [
    {
     "name": "stdout",
     "output_type": "stream",
     "text": [
      "a =76\n",
      "b =31\n",
      "Float Div = 2.4516129032258065\n"
     ]
    }
   ],
   "source": [
    "Num1=float(input(\"a =\"))\n",
    "Num2=float(input(\"b =\"))\n",
    "div=Num1/Num2\n",
    "\n",
    "\n",
    "print(\"Float Div =\",div)"
   ]
  },
  {
   "cell_type": "code",
   "execution_count": 14,
   "id": "fe04146d",
   "metadata": {},
   "outputs": [
    {
     "name": "stdout",
     "output_type": "stream",
     "text": [
      "a =73\n",
      "b =31\n",
      "Floor Div = 2\n"
     ]
    }
   ],
   "source": [
    "Num1=int(input(\"a =\"))\n",
    "Num2=int(input(\"b =\"))\n",
    "div=Num1//Num2\n",
    "\n",
    "\n",
    "print(\"Floor Div =\",div)"
   ]
  },
  {
   "cell_type": "code",
   "execution_count": 16,
   "id": "662fe629",
   "metadata": {},
   "outputs": [
    {
     "name": "stdout",
     "output_type": "stream",
     "text": [
      "a =76\n",
      "b =31\n",
      "Modulo = 14\n"
     ]
    }
   ],
   "source": [
    "Num1=int(input(\"a =\"))\n",
    "Num2=int(input(\"b =\"))\n",
    "div=Num1 % Num2\n",
    "\n",
    "\n",
    "print(\"Modulo =\",div)"
   ]
  },
  {
   "cell_type": "code",
   "execution_count": 17,
   "id": "a63d6b40",
   "metadata": {},
   "outputs": [
    {
     "name": "stdout",
     "output_type": "stream",
     "text": [
      "a =4\n",
      "b =4\n",
      "power = 256\n"
     ]
    }
   ],
   "source": [
    "Num1=int(input(\"a =\"))\n",
    "Num2=int(input(\"b =\"))\n",
    "power=pow(Num1,Num2)\n",
    "\n",
    "\n",
    "print(\"power =\",power)"
   ]
  },
  {
   "cell_type": "code",
   "execution_count": null,
   "id": "ad259e46",
   "metadata": {},
   "outputs": [],
   "source": []
  },
  {
   "cell_type": "code",
   "execution_count": null,
   "id": "493b8df5",
   "metadata": {},
   "outputs": [],
   "source": []
  },
  {
   "cell_type": "code",
   "execution_count": null,
   "id": "35a0f2c8",
   "metadata": {},
   "outputs": [],
   "source": []
  },
  {
   "cell_type": "code",
   "execution_count": null,
   "id": "dbb11490",
   "metadata": {},
   "outputs": [],
   "source": []
  },
  {
   "cell_type": "code",
   "execution_count": null,
   "id": "35336a23",
   "metadata": {},
   "outputs": [],
   "source": []
  },
  {
   "cell_type": "code",
   "execution_count": null,
   "id": "ec00014b",
   "metadata": {},
   "outputs": [],
   "source": []
  }
 ],
 "metadata": {
  "kernelspec": {
   "display_name": "Python 3 (ipykernel)",
   "language": "python",
   "name": "python3"
  },
  "language_info": {
   "codemirror_mode": {
    "name": "ipython",
    "version": 3
   },
   "file_extension": ".py",
   "mimetype": "text/x-python",
   "name": "python",
   "nbconvert_exporter": "python",
   "pygments_lexer": "ipython3",
   "version": "3.9.13"
  }
 },
 "nbformat": 4,
 "nbformat_minor": 5
}
