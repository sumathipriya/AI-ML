{
 "cells": [
  {
   "cell_type": "code",
   "execution_count": 1,
   "id": "c46af34e",
   "metadata": {},
   "outputs": [
    {
     "name": "stdout",
     "output_type": "stream",
     "text": [
      "0\n",
      "1\n",
      "2\n",
      "3\n",
      "4\n",
      "5\n",
      "6\n",
      "7\n",
      "8\n",
      "9\n",
      "10\n",
      "11\n",
      "12\n",
      "13\n",
      "14\n",
      "15\n",
      "16\n",
      "17\n",
      "18\n",
      "19\n"
     ]
    }
   ],
   "source": [
    "for x in range(20):\n",
    "  print(x) "
   ]
  },
  {
   "cell_type": "code",
   "execution_count": 6,
   "id": "6183d313",
   "metadata": {},
   "outputs": [
    {
     "name": "stdout",
     "output_type": "stream",
     "text": [
      "10 11 12 13 14 15 16 17 18 19 "
     ]
    }
   ],
   "source": [
    "for x in range(10,20):\n",
    "    print(x, end=' ')"
   ]
  },
  {
   "cell_type": "code",
   "execution_count": 7,
   "id": "77ff64c4",
   "metadata": {},
   "outputs": [
    {
     "name": "stdout",
     "output_type": "stream",
     "text": [
      "[10, 20, 14, 55, 43, 87, 76]\n",
      "Number of item in the List :\n",
      "7\n"
     ]
    }
   ],
   "source": [
    "my_list=[10,20,14,55,43,87,76]\n",
    "print(my_list)\n",
    "print(\"Number of item in the List :\")\n",
    "print(len(my_list))"
   ]
  },
  {
   "cell_type": "code",
   "execution_count": 23,
   "id": "39711c72",
   "metadata": {},
   "outputs": [
    {
     "name": "stdout",
     "output_type": "stream",
     "text": [
      "Artificial Intelligence\n",
      "A\n",
      "r\n",
      "t\n",
      "i\n",
      "f\n",
      "i\n",
      "c\n",
      "i\n",
      "a\n",
      "l\n",
      " \n",
      "I\n",
      "n\n",
      "t\n",
      "e\n",
      "l\n",
      "l\n",
      "i\n",
      "g\n",
      "e\n",
      "n\n",
      "c\n",
      "e\n"
     ]
    }
   ],
   "source": [
    "print(\"Artificial Intelligence\")\n",
    "Name =\"Artificial Intelligence\"\n",
    "for x in Name:\n",
    "     print(x)"
   ]
  },
  {
   "cell_type": "code",
   "execution_count": 26,
   "id": "0c5409a4",
   "metadata": {},
   "outputs": [
    {
     "name": "stdout",
     "output_type": "stream",
     "text": [
      "-Your Name-\n",
      "-Your Age-\n",
      "-Your Profession-\n"
     ]
    }
   ],
   "source": [
    "list=[\"-Your Name-\",\"-Your Age-\",\"-Your Profession-\"]\n",
    "for x in list:\n",
    "    print(x)"
   ]
  },
  {
   "cell_type": "code",
   "execution_count": 2,
   "id": "c7935763",
   "metadata": {},
   "outputs": [
    {
     "name": "stdout",
     "output_type": "stream",
     "text": [
      "Print this mixered datatype using Tuples\n",
      "(1, 'welcome', 2, 'Hope')\n"
     ]
    }
   ],
   "source": [
    "Tuple=(1,'welcome',2,'Hope')\n",
    "print('Print this mixered datatype using Tuples')\n",
    "print(Tuple)\n",
    "       "
   ]
  },
  {
   "cell_type": "code",
   "execution_count": 3,
   "id": "e5cae317",
   "metadata": {},
   "outputs": [
    {
     "name": "stdout",
     "output_type": "stream",
     "text": [
      "((0, 1, 2, 3), ('python', 'HOPE'))\n"
     ]
    }
   ],
   "source": [
    "tuple=((0,1,2,3),('python','HOPE'))\n",
    "print(tuple)"
   ]
  },
  {
   "cell_type": "code",
   "execution_count": 4,
   "id": "cf5249a7",
   "metadata": {},
   "outputs": [
    {
     "name": "stdout",
     "output_type": "stream",
     "text": [
      "(20, 10, 16, 19, 25, 1, 276, 188)\n",
      "19  odd number\n",
      "25  odd number\n",
      "1  odd number\n"
     ]
    }
   ],
   "source": [
    "list=(20,10,16,19,25,1,276,188)\n",
    "print(list)\n",
    "for i in list:\n",
    "    if i%2==1:\n",
    "        print(i,\" odd number\")\n",
    "\n"
   ]
  },
  {
   "cell_type": "code",
   "execution_count": 5,
   "id": "cb6ae8c6",
   "metadata": {},
   "outputs": [
    {
     "name": "stdout",
     "output_type": "stream",
     "text": [
      "(20, 10, 16, 19, 25, 1, 276, 188)\n",
      "20  Even number\n",
      "10  Even number\n",
      "16  Even number\n",
      "276  Even number\n",
      "188  Even number\n"
     ]
    }
   ],
   "source": [
    "list=(20,10,16,19,25,1,276,188)\n",
    "print(list)\n",
    "for i in list:\n",
    "    if i%2==0:\n",
    "        print(i,\" Even number\")"
   ]
  },
  {
   "cell_type": "code",
   "execution_count": null,
   "id": "509ed59c",
   "metadata": {},
   "outputs": [],
   "source": []
  },
  {
   "cell_type": "code",
   "execution_count": null,
   "id": "04cd909b",
   "metadata": {},
   "outputs": [],
   "source": []
  },
  {
   "cell_type": "code",
   "execution_count": null,
   "id": "8d647f37",
   "metadata": {},
   "outputs": [],
   "source": []
  },
  {
   "cell_type": "code",
   "execution_count": null,
   "id": "e3affeaa",
   "metadata": {},
   "outputs": [],
   "source": []
  },
  {
   "cell_type": "code",
   "execution_count": null,
   "id": "9f3f5164",
   "metadata": {},
   "outputs": [],
   "source": []
  }
 ],
 "metadata": {
  "kernelspec": {
   "display_name": "Python 3 (ipykernel)",
   "language": "python",
   "name": "python3"
  },
  "language_info": {
   "codemirror_mode": {
    "name": "ipython",
    "version": 3
   },
   "file_extension": ".py",
   "mimetype": "text/x-python",
   "name": "python",
   "nbconvert_exporter": "python",
   "pygments_lexer": "ipython3",
   "version": "3.9.13"
  }
 },
 "nbformat": 4,
 "nbformat_minor": 5
}
